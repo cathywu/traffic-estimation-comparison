{
 "metadata": {
  "name": "",
  "signature": "sha256:a55d33f6626bef38fcd759f92a7912f46a0149a751f20c109ddc1c33f985ea5a"
 },
 "nbformat": 3,
 "nbformat_minor": 0,
 "worksheets": [
  {
   "cells": [
    {
     "cell_type": "markdown",
     "metadata": {},
     "source": [
      "Herein we plot results. "
     ]
    },
    {
     "cell_type": "code",
     "collapsed": false,
     "input": [
      "%matplotlib inline\n",
      "from src.scenarios_plot import *\n",
      "\n",
      "# Plot configuration\n",
      "init = False\n",
      "sparse = False\n",
      "yaxis = 'blocks'\n",
      "error = 0.10\n",
      "error2 = 0.30\n",
      "error3 = 0.50\n",
      "caption = \"\"\n",
      "# Reload results\n",
      "scenarios, scenarios_all_links, scenarios_v2, scenarios_v3 = load_results()"
     ],
     "language": "python",
     "metadata": {},
     "outputs": [
      {
       "output_type": "stream",
       "stream": "stdout",
       "text": [
        "Warning: statsmodels and/or patsy not found, not importing glm submodule.\n"
       ]
      },
      {
       "ename": "ImportError",
       "evalue": "cannot import name to_np",
       "output_type": "pyerr",
       "traceback": [
        "\u001b[0;31m---------------------------------------------------------------------------\u001b[0m\n\u001b[0;31mImportError\u001b[0m                               Traceback (most recent call last)",
        "\u001b[0;32m<ipython-input-1-e849d166681f>\u001b[0m in \u001b[0;36m<module>\u001b[0;34m()\u001b[0m\n\u001b[1;32m      1\u001b[0m \u001b[0mget_ipython\u001b[0m\u001b[0;34m(\u001b[0m\u001b[0;34m)\u001b[0m\u001b[0;34m.\u001b[0m\u001b[0mmagic\u001b[0m\u001b[0;34m(\u001b[0m\u001b[0;34mu'matplotlib inline'\u001b[0m\u001b[0;34m)\u001b[0m\u001b[0;34m\u001b[0m\u001b[0m\n\u001b[0;32m----> 2\u001b[0;31m \u001b[0;32mfrom\u001b[0m \u001b[0msrc\u001b[0m\u001b[0;34m.\u001b[0m\u001b[0mscenarios_plot\u001b[0m \u001b[0;32mimport\u001b[0m \u001b[0;34m*\u001b[0m\u001b[0;34m\u001b[0m\u001b[0m\n\u001b[0m\u001b[1;32m      3\u001b[0m \u001b[0;34m\u001b[0m\u001b[0m\n\u001b[1;32m      4\u001b[0m \u001b[0;31m# Plot configuration\u001b[0m\u001b[0;34m\u001b[0m\u001b[0;34m\u001b[0m\u001b[0m\n\u001b[1;32m      5\u001b[0m \u001b[0minit\u001b[0m \u001b[0;34m=\u001b[0m \u001b[0mFalse\u001b[0m\u001b[0;34m\u001b[0m\u001b[0m\n",
        "\u001b[0;32m/Users/cathywu/Dropbox/PhD/traffic-estimation/comparison/src/scenarios_plot.py\u001b[0m in \u001b[0;36m<module>\u001b[0;34m()\u001b[0m\n\u001b[1;32m     12\u001b[0m \u001b[0;32mfrom\u001b[0m \u001b[0mpylab\u001b[0m \u001b[0;32mimport\u001b[0m \u001b[0mconnect\u001b[0m\u001b[0;34m,\u001b[0m \u001b[0mscatter\u001b[0m\u001b[0;34m,\u001b[0m \u001b[0mplot\u001b[0m\u001b[0;34m\u001b[0m\u001b[0m\n\u001b[1;32m     13\u001b[0m \u001b[0;32mfrom\u001b[0m \u001b[0mAnnoteFinder\u001b[0m \u001b[0;32mimport\u001b[0m \u001b[0mAnnoteFinder\u001b[0m\u001b[0;34m\u001b[0m\u001b[0m\n\u001b[0;32m---> 14\u001b[0;31m \u001b[0;32mfrom\u001b[0m \u001b[0mScenario\u001b[0m \u001b[0;32mimport\u001b[0m \u001b[0mto_np\u001b[0m\u001b[0;34m\u001b[0m\u001b[0m\n\u001b[0m\u001b[1;32m     15\u001b[0m \u001b[0;34m\u001b[0m\u001b[0m\n\u001b[1;32m     16\u001b[0m \u001b[0;32mdef\u001b[0m \u001b[0mfilter_valid\u001b[0m\u001b[0;34m(\u001b[0m\u001b[0md\u001b[0m\u001b[0;34m)\u001b[0m\u001b[0;34m:\u001b[0m\u001b[0;34m\u001b[0m\u001b[0m\n",
        "\u001b[0;31mImportError\u001b[0m: cannot import name to_np"
       ]
      }
     ],
     "prompt_number": 1
    },
    {
     "cell_type": "heading",
     "level": 1,
     "metadata": {},
     "source": [
      "Comparison of LSQR vs LS vs BI vs CS"
     ]
    },
    {
     "cell_type": "heading",
     "level": 2,
     "metadata": {},
     "source": [
      "sparse=False, model=P, various sensor configurations"
     ]
    },
    {
     "cell_type": "code",
     "collapsed": true,
     "input": [
      "plot_solver_comparison(scenarios_v3, sparse=False, caption=caption,\n",
      "                       error_leq=error, error_leq2=error2, model='P',\n",
      "                       error_leq3=error3, max_NLPCP=100)\n",
      "plot_solver_comparison(scenarios_v3, sparse=False, caption=caption,\n",
      "                       error_leq=error, error_leq2=error2, model='P',\n",
      "                       error_leq3=error3, max_NLPCP=100, use_L=True,\n",
      "                       use_OD=True, use_CP=True, use_LP=True)\n",
      "plot_solver_comparison(scenarios_v3, sparse=False, caption=caption,\n",
      "                       error_leq=error, error_leq2=error2, model='P',\n",
      "                       error_leq3=error3, max_NLPCP=100, use_L=False,\n",
      "                       use_OD=False, use_CP=True, use_LP=True)"
     ],
     "language": "python",
     "metadata": {},
     "outputs": []
    },
    {
     "cell_type": "heading",
     "level": 2,
     "metadata": {},
     "source": [
      "sparse=True, model=P, various sensor configurations"
     ]
    },
    {
     "cell_type": "code",
     "collapsed": false,
     "input": [
      "plot_solver_comparison(scenarios_v3, sparse=True, caption=caption,\n",
      "                       error_leq=error, error_leq2=error2, model='P',\n",
      "                       error_leq3=error3, max_NLPCP=100)\n",
      "plot_solver_comparison(scenarios_v3, sparse=True, caption=caption,\n",
      "                       error_leq=error, error_leq2=error2, model='P',\n",
      "                       error_leq3=error3, max_NLPCP=100, use_L=True,\n",
      "                       use_OD=True, use_CP=True, use_LP=True)\n",
      "plot_solver_comparison(scenarios_v3, sparse=True, caption=caption,\n",
      "                       error_leq=error, error_leq2=error2, model='P',\n",
      "                       error_leq3=error3, max_NLPCP=100, use_L=False,\n",
      "                       use_OD=False, use_CP=True, use_LP=True)"
     ],
     "language": "python",
     "metadata": {},
     "outputs": []
    },
    {
     "cell_type": "heading",
     "level": 1,
     "metadata": {},
     "source": [
      "Accuracy on nroutes vs nblocks"
     ]
    },
    {
     "cell_type": "code",
     "collapsed": false,
     "input": [
      "print \"\"\"This plot compares accuracy (%% error), duration, and the number of blocks, as the number of routes considered grows (which is a function of the network and nroutes parameter. To the left, we have on the yaxis the number of %s; the right plot shows the same information but displays a ratio of the %s over the number of routes instead.\"\"\" % (yaxis, yaxis)\n",
      "plot_nroutes_vs_nblocks(scenarios, init=init, sparse=sparse,\n",
      "                           yaxis=yaxis, caption=caption, solver='LS', model='P')\n",
      "print \"\"\"This plot is the same as the previous, but displays results for ONLY the LS/UE experiments\"\"\"\n",
      "plot_nroutes_vs_nblocks(scenarios, init=init, sparse=sparse,\n",
      "                           yaxis=yaxis, caption=caption, solver='LS', model='UE')\n",
      "print \"\"\"This plot is the same as the previous, but displays results for ONLY the LS/SO experiments\"\"\"\n",
      "plot_nroutes_vs_nblocks(scenarios, init=init, sparse=sparse,\n",
      "                           yaxis=yaxis, caption=caption, solver='LS', model='SO')"
     ],
     "language": "python",
     "metadata": {},
     "outputs": []
    },
    {
     "cell_type": "heading",
     "level": 1,
     "metadata": {},
     "source": [
      "nroutes vs sensors (and sensor composition)"
     ]
    },
    {
     "cell_type": "code",
     "collapsed": false,
     "input": [
      "# FIXME all_links does nothing for P networks\n",
      "print \"\"\"This plot is also the same, but displays results for only experiments flagged \"all_links\", which unforunately only makes a difference for the UE/SO experiments.\"\"\"\n",
      "plot_nroutes_vs_nblocks(scenarios_all_links, init=init, sparse=sparse,\n",
      "                           yaxis=yaxis, caption=caption)\n",
      "print \"\"\"This plot first filters LS/P experiments that get %0.2f+ route flow accuracy, then looks at the number of selected sensors (LP on the yaxis, CP encoded in color). Unfortunately, this doesn't give a sense of how much information is from OD pairs, links, and also how much information is provided by the LP/CP sensors in aggregate\"\"\" % error\n",
      "plot_nroutes_vs_sensors(scenarios, init=init, sparse=sparse,\n",
      "                             caption=caption,error_leq=error,solver='LS',model='P')\n",
      "print \"\"\"This plot is the same as the previous but better (but with less data for now) because we have also recorded the number of constraints that come from the various sensors. CAUTION: it is the number of resulting constraints, NOT the number of sensors of each type, that is displayed.\"\"\"\n",
      "plot_nroutes_vs_sensors_v2(scenarios_v2, init=False, sparse=sparse,\n",
      "                             caption=caption,error_leq=error,solver='LS',model='P')\n",
      "plot_nroutes_vs_sensors_v2(scenarios_v3, init=False, sparse=sparse,\n",
      "                           caption=caption,error_leq=error,solver='LSQR',model='P')\n",
      "# FIXME I'm running more experiments in the empty space, check back in a bit\n",
      "print \"\"\"For LS experiments that perform well, this plot shows the makeup of LP/CP sensors\"\"\"\n",
      "plot_sensors_vs_constraints_v2(scenarios_v2, init=False, sparse=sparse,\n",
      "                                 caption=caption,error_leq=error,max_NLPCP=350,\n",
      "                                 solver='LS')\n",
      "plot_sensors_vs_constraints_v2(scenarios_v2, init=False, sparse=sparse,\n",
      "                                   caption=caption,error_leq=error,max_NLPCP=350,\n",
      "                                   solver='LSQR')"
     ],
     "language": "python",
     "metadata": {},
     "outputs": []
    },
    {
     "cell_type": "heading",
     "level": 1,
     "metadata": {},
     "source": [
      "Does initialization matter? (LS solver)"
     ]
    },
    {
     "cell_type": "code",
     "collapsed": false,
     "input": [
      "############\n",
      "print \"\"\"Now we start to look at if initializing the LS solver with a guess based off of the equality constraint yields any performance improvement. The answer looks like yes with regards to accuracy but no with regards to runtime. I think this is bad news.\"\"\"\n",
      "plot_nroutes_vs_nblocks_init_ls(scenarios, sparse=sparse,\n",
      "                                caption=caption)\n",
      "############\n",
      "print \"\"\"This is basically the same plot, but we filter for experiments that are %0.2f+ accurate in route flow\"\"\" % error\n",
      "plot_nroutes_vs_nblocks_init_ls(scenarios, sparse=sparse, error_leq=error,\n",
      "                                caption=caption)"
     ],
     "language": "python",
     "metadata": {},
     "outputs": []
    },
    {
     "cell_type": "heading",
     "level": 1,
     "metadata": {},
     "source": [
      "nroutes vs total sensors\n",
      "TODO: fix legend"
     ]
    },
    {
     "cell_type": "code",
     "collapsed": false,
     "input": [
      "print \"\"\"[ALL] This is the first plot with LSQR results; it shows the total number of constraints for experiments with a %0.2f+ route flow accuracy, colored by the sensor configuration, and sized by the number of actual sensors\"\"\"\n",
      "plot_sensors_vs_configs_v3(scenarios_v3, sparse=sparse,solver='LSQR',\n",
      "                           caption=caption,max_NLPCP=100)\n",
      "print \"\"\"[ACCURATE] This is the first plot with LSQR results; it shows the total number of constraints for experiments with a %0.2f+ route flow accuracy, colored by the sensor configuration, and sized by the number of actual sensors\"\"\"\n",
      "plot_sensors_vs_configs_v3(scenarios_v3, sparse=sparse,solver='LSQR',\n",
      "                            caption=caption,error_leq=error,error_leq2=error2,\n",
      "                            error_leq3=error3,max_NLPCP=100)\n",
      "print \"\"\"Same but for LS\"\"\"\n",
      "plot_sensors_vs_configs_v3(scenarios_v2, sparse=sparse,solver='LS',\n",
      "                           caption=caption,error_leq=error,error_leq2=error2,\n",
      "                           error_leq3=error3,max_NLPCP=350)"
     ],
     "language": "python",
     "metadata": {},
     "outputs": []
    },
    {
     "cell_type": "code",
     "collapsed": false,
     "input": [],
     "language": "python",
     "metadata": {},
     "outputs": [],
     "prompt_number": 1
    },
    {
     "cell_type": "code",
     "collapsed": false,
     "input": [],
     "language": "python",
     "metadata": {},
     "outputs": [],
     "prompt_number": 0
    },
    {
     "cell_type": "code",
     "collapsed": false,
     "input": [],
     "language": "python",
     "metadata": {},
     "outputs": [],
     "prompt_number": 0
    }
   ],
   "metadata": {}
  }
 ]
}